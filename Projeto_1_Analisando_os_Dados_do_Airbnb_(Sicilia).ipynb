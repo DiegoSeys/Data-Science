{
  "nbformat": 4,
  "nbformat_minor": 0,
  "metadata": {
    "colab": {
      "name": "Projeto 1 -  Analisando os Dados do Airbnb (Sicilia).ipynb",
      "provenance": [],
      "collapsed_sections": [],
      "include_colab_link": true
    },
    "kernelspec": {
      "name": "python3",
      "display_name": "Python 3"
    }
  },
  "cells": [
    {
      "cell_type": "markdown",
      "metadata": {
        "id": "view-in-github",
        "colab_type": "text"
      },
      "source": [
        "<a href=\"https://colab.research.google.com/github/DiegoSeys/DataScience/blob/main/Projeto_1_Analisando_os_Dados_do_Airbnb_(Sicilia).ipynb\" target=\"_parent\"><img src=\"https://colab.research.google.com/assets/colab-badge.svg\" alt=\"Open In Colab\"/></a>"
      ]
    },
    {
      "cell_type": "markdown",
      "metadata": {
        "id": "kLI0gJtzDGuQ"
      },
      "source": [
        "<img alt=\"Colaboratory logo\" width=\"15%\" src=\"https://raw.githubusercontent.com/carlosfab/escola-data-science/master/img/novo_logo_bg_claro.png\">\n",
        "\n",
        "#### **Data Science na Prática 3.0**\n",
        "*by [sigmoidal.ai](https://sigmoidal.ai)*\n",
        "\n",
        "---\n",
        "\n",
        "<center><img alt=\"Analisando Airbnb\" width=\"40%\" src=\"https://www.area360.com.au/wp-content/uploads/2017/09/airbnb-logo.jpg\"></center>\n",
        "\n",
        "# **Análise dos Dados do Airbnb - Sicilia (Itália)**\n",
        "\n",
        "O [Airbnb](https://www.airbnb.com.br/) nasceu em 2007, quando dois anfitriões receberam três hóspedes em sua casa em São Francisco. Hoje, a plataforma conta com 4 milhões de anfitriões que já receberam mais de 1 bilhão de hóspedes em quase todos os países do mundo. Todos os dias, os anfitriões oferecem acomodações e atividades únicas, que possibilitam aos viajantes vivenciar o mundo de uma forma mais autêntica e conectada.\n",
        "\n",
        "\n",
        "Uma das iniciativas do Airbnb é disponibilizar dados do site, para algumas das principais cidades do mundo. Por meio do portal [Inside Airbnb](http://insideairbnb.com/get-the-data.html), é possível baixar uma grande quantidade de dados para desenvolver projetos e soluções de *Data Science*.\n",
        "\n",
        "\n",
        "**Neste *notebook*,  será analisado os dados referentes à cidade de Sicilia (Itália), descobrindo quais insights podem ser extraídos a partir dos dados informados.**\n",
        "\n",
        "---"
      ]
    },
    {
      "cell_type": "markdown",
      "metadata": {
        "id": "0zxQHhIUDF_2"
      },
      "source": [
        "## **Obtenção dos Dados**\n",
        "\n",
        "Todos os dados usados nessa análise foram obtidos do site [Inside Airbnb](http://insideairbnb.com/get-the-data.html).\n",
        "\n",
        "Para esta análise exploratória inicial, será baixado apenas o seguinte arquivo:\n",
        "\n",
        "* `listings.csv` - *Summary information and metrics for listings in Sicily (good for visualisations).*\n",
        "\n",
        "*Importante: Por conta de atualizações, pode ser que o [conjunto de dados](http://data.insideairbnb.com/italy/sicilia/sicily/2022-06-25/visualisations/listings.csv) utilizado nesse notebook não esteja mais disponível, o que prejudicaria nosso código.\n",
        "\n",
        "Por conta disso, disponibilizamos [aqui](https://1drv.ms/u/s!ArMSnPgAp03ggVOIDHoVgeeZjaCL?e=Fbqzi2) o conjunto que utilizamos, para que esteja sempre disponível para visualização."
      ]
    },
    {
      "cell_type": "code",
      "metadata": {
        "id": "Vhp2wMPgJ6zX"
      },
      "source": [
        "# importar os pacotes necessarios\n",
        "import pandas as pd\n",
        "import matplotlib.pyplot as plt\n",
        "import seaborn as sns\n",
        "\n",
        "%matplotlib inline"
      ],
      "execution_count": 1,
      "outputs": []
    },
    {
      "cell_type": "code",
      "metadata": {
        "id": "tUmoAT8DLQ5T"
      },
      "source": [
        "# importar o arquivo listings.csv para um DataFrame\n",
        "df = pd.read_csv(\"http://data.insideairbnb.com/italy/sicilia/sicily/2022-06-25/visualisations/listings.csv\")"
      ],
      "execution_count": 2,
      "outputs": []
    },
    {
      "cell_type": "markdown",
      "metadata": {
        "id": "qb5By2nIMS6m"
      },
      "source": [
        "## **Análise dos Dados**\n",
        "\n",
        "Esta etapa consiste em criar uma análise situacional inicial e permitir um entendimento de como os dados estão estruturados na região da Sicilia.\n"
      ]
    },
    {
      "cell_type": "markdown",
      "metadata": {
        "id": "RYgvuebKNg8-"
      },
      "source": [
        "**Dicionário das variáveis**\n",
        "\n",
        "* `id` - *número de id gerado para identificar o imóvel*\n",
        "* `name` - *nome da propriedade anunciada*\n",
        "* `host_id` - *número de id do proprietário (anfitrião) da propriedade*\n",
        "* `host_name` - *Nome do anfitrião*\n",
        "* `neighbourhood_group` - *esta coluna não contém nenhum valor válido*\n",
        "* `neighbourhood` - *nome do bairro*\n",
        "* `latitude` - *coordenada da latitude da propriedade*\n",
        "* `longitude` - *coordenada da longitude da propriedade*\n",
        "* `room_type` - *informa o tipo de quarto que é oferecido*\n",
        "* `price` - *preço para alugar o imóvel*\n",
        "* `minimum_nights` - *quantidade mínima de noites para reservar*\n",
        "* `number_of_reviews` - *número de reviews que a propriedade possui*\n",
        "* `last_review` - *data do último review*\n",
        "* `reviews_per_month` - *quantidade de reviews por mês*\n",
        "* `calculated_host_listings_count` - *quantidade de imóveis do mesmo anfitrião*\n",
        "* `availability_365` - *número de dias de disponibilidade dentro de 365 dias*\n",
        "\n",
        "Para começo de análise, vamos observar as primeiras 5 entradas."
      ]
    },
    {
      "cell_type": "code",
      "metadata": {
        "id": "2iS_dae7YQtO",
        "colab": {
          "base_uri": "https://localhost:8080/",
          "height": 478
        },
        "outputId": "ac2445bd-3862-47f0-e504-46ec3a04a56f"
      },
      "source": [
        "# mostrar as 5 primeiras entradas\n",
        "df.head()"
      ],
      "execution_count": 3,
      "outputs": [
        {
          "output_type": "execute_result",
          "data": {
            "text/plain": [
              "       id                                name  host_id host_name  \\\n",
              "0  152203  SEA View Loft w/ PARKING - Catania   732329       Dan   \n",
              "1   60842                               Oasis   293783   Giorgio   \n",
              "2   87488  Appartamenti a Salina-Camera Nonni   479157     Mario   \n",
              "3   98571         Stanza Tommaso da Lampedusa   514653    Angelo   \n",
              "4  179319  Steps from the Duomo and the Beach   858612     Nancy   \n",
              "\n",
              "   neighbourhood_group        neighbourhood  latitude  longitude  \\\n",
              "0                  NaN             Valverde  37.57492   15.13296   \n",
              "1                  NaN         Aci Castello  37.55937   15.15967   \n",
              "2                  NaN  Santa Marina Salina  38.54243   14.87020   \n",
              "3                  NaN   Lampedusa e Linosa  35.49865   12.60542   \n",
              "4                  NaN                Cefal  38.03982   14.02109   \n",
              "\n",
              "         room_type  price  minimum_nights  number_of_reviews last_review  \\\n",
              "0  Entire home/apt     52               2                354  2022-06-19   \n",
              "1     Private room     86               1                 18  2022-06-24   \n",
              "2     Private room     25               1                 12  2022-01-02   \n",
              "3  Entire home/apt     91               1                  4  2017-07-15   \n",
              "4  Entire home/apt     85               5                110  2021-09-22   \n",
              "\n",
              "   reviews_per_month  calculated_host_listings_count  availability_365  \\\n",
              "0               2.70                               3                94   \n",
              "1               0.16                               2                74   \n",
              "2               0.11                               7               144   \n",
              "3               0.03                               4               338   \n",
              "4               0.90                               1               311   \n",
              "\n",
              "   number_of_reviews_ltm license  \n",
              "0                     36     NaN  \n",
              "1                      5     NaN  \n",
              "2                      1     NaN  \n",
              "3                      0     NaN  \n",
              "4                      4     NaN  "
            ],
            "text/html": [
              "\n",
              "  <div id=\"df-11025d59-8347-46b0-9d1c-0ed07d3e13ab\">\n",
              "    <div class=\"colab-df-container\">\n",
              "      <div>\n",
              "<style scoped>\n",
              "    .dataframe tbody tr th:only-of-type {\n",
              "        vertical-align: middle;\n",
              "    }\n",
              "\n",
              "    .dataframe tbody tr th {\n",
              "        vertical-align: top;\n",
              "    }\n",
              "\n",
              "    .dataframe thead th {\n",
              "        text-align: right;\n",
              "    }\n",
              "</style>\n",
              "<table border=\"1\" class=\"dataframe\">\n",
              "  <thead>\n",
              "    <tr style=\"text-align: right;\">\n",
              "      <th></th>\n",
              "      <th>id</th>\n",
              "      <th>name</th>\n",
              "      <th>host_id</th>\n",
              "      <th>host_name</th>\n",
              "      <th>neighbourhood_group</th>\n",
              "      <th>neighbourhood</th>\n",
              "      <th>latitude</th>\n",
              "      <th>longitude</th>\n",
              "      <th>room_type</th>\n",
              "      <th>price</th>\n",
              "      <th>minimum_nights</th>\n",
              "      <th>number_of_reviews</th>\n",
              "      <th>last_review</th>\n",
              "      <th>reviews_per_month</th>\n",
              "      <th>calculated_host_listings_count</th>\n",
              "      <th>availability_365</th>\n",
              "      <th>number_of_reviews_ltm</th>\n",
              "      <th>license</th>\n",
              "    </tr>\n",
              "  </thead>\n",
              "  <tbody>\n",
              "    <tr>\n",
              "      <th>0</th>\n",
              "      <td>152203</td>\n",
              "      <td>SEA View Loft w/ PARKING - Catania</td>\n",
              "      <td>732329</td>\n",
              "      <td>Dan</td>\n",
              "      <td>NaN</td>\n",
              "      <td>Valverde</td>\n",
              "      <td>37.57492</td>\n",
              "      <td>15.13296</td>\n",
              "      <td>Entire home/apt</td>\n",
              "      <td>52</td>\n",
              "      <td>2</td>\n",
              "      <td>354</td>\n",
              "      <td>2022-06-19</td>\n",
              "      <td>2.70</td>\n",
              "      <td>3</td>\n",
              "      <td>94</td>\n",
              "      <td>36</td>\n",
              "      <td>NaN</td>\n",
              "    </tr>\n",
              "    <tr>\n",
              "      <th>1</th>\n",
              "      <td>60842</td>\n",
              "      <td>Oasis</td>\n",
              "      <td>293783</td>\n",
              "      <td>Giorgio</td>\n",
              "      <td>NaN</td>\n",
              "      <td>Aci Castello</td>\n",
              "      <td>37.55937</td>\n",
              "      <td>15.15967</td>\n",
              "      <td>Private room</td>\n",
              "      <td>86</td>\n",
              "      <td>1</td>\n",
              "      <td>18</td>\n",
              "      <td>2022-06-24</td>\n",
              "      <td>0.16</td>\n",
              "      <td>2</td>\n",
              "      <td>74</td>\n",
              "      <td>5</td>\n",
              "      <td>NaN</td>\n",
              "    </tr>\n",
              "    <tr>\n",
              "      <th>2</th>\n",
              "      <td>87488</td>\n",
              "      <td>Appartamenti a Salina-Camera Nonni</td>\n",
              "      <td>479157</td>\n",
              "      <td>Mario</td>\n",
              "      <td>NaN</td>\n",
              "      <td>Santa Marina Salina</td>\n",
              "      <td>38.54243</td>\n",
              "      <td>14.87020</td>\n",
              "      <td>Private room</td>\n",
              "      <td>25</td>\n",
              "      <td>1</td>\n",
              "      <td>12</td>\n",
              "      <td>2022-01-02</td>\n",
              "      <td>0.11</td>\n",
              "      <td>7</td>\n",
              "      <td>144</td>\n",
              "      <td>1</td>\n",
              "      <td>NaN</td>\n",
              "    </tr>\n",
              "    <tr>\n",
              "      <th>3</th>\n",
              "      <td>98571</td>\n",
              "      <td>Stanza Tommaso da Lampedusa</td>\n",
              "      <td>514653</td>\n",
              "      <td>Angelo</td>\n",
              "      <td>NaN</td>\n",
              "      <td>Lampedusa e Linosa</td>\n",
              "      <td>35.49865</td>\n",
              "      <td>12.60542</td>\n",
              "      <td>Entire home/apt</td>\n",
              "      <td>91</td>\n",
              "      <td>1</td>\n",
              "      <td>4</td>\n",
              "      <td>2017-07-15</td>\n",
              "      <td>0.03</td>\n",
              "      <td>4</td>\n",
              "      <td>338</td>\n",
              "      <td>0</td>\n",
              "      <td>NaN</td>\n",
              "    </tr>\n",
              "    <tr>\n",
              "      <th>4</th>\n",
              "      <td>179319</td>\n",
              "      <td>Steps from the Duomo and the Beach</td>\n",
              "      <td>858612</td>\n",
              "      <td>Nancy</td>\n",
              "      <td>NaN</td>\n",
              "      <td>Cefal</td>\n",
              "      <td>38.03982</td>\n",
              "      <td>14.02109</td>\n",
              "      <td>Entire home/apt</td>\n",
              "      <td>85</td>\n",
              "      <td>5</td>\n",
              "      <td>110</td>\n",
              "      <td>2021-09-22</td>\n",
              "      <td>0.90</td>\n",
              "      <td>1</td>\n",
              "      <td>311</td>\n",
              "      <td>4</td>\n",
              "      <td>NaN</td>\n",
              "    </tr>\n",
              "  </tbody>\n",
              "</table>\n",
              "</div>\n",
              "      <button class=\"colab-df-convert\" onclick=\"convertToInteractive('df-11025d59-8347-46b0-9d1c-0ed07d3e13ab')\"\n",
              "              title=\"Convert this dataframe to an interactive table.\"\n",
              "              style=\"display:none;\">\n",
              "        \n",
              "  <svg xmlns=\"http://www.w3.org/2000/svg\" height=\"24px\"viewBox=\"0 0 24 24\"\n",
              "       width=\"24px\">\n",
              "    <path d=\"M0 0h24v24H0V0z\" fill=\"none\"/>\n",
              "    <path d=\"M18.56 5.44l.94 2.06.94-2.06 2.06-.94-2.06-.94-.94-2.06-.94 2.06-2.06.94zm-11 1L8.5 8.5l.94-2.06 2.06-.94-2.06-.94L8.5 2.5l-.94 2.06-2.06.94zm10 10l.94 2.06.94-2.06 2.06-.94-2.06-.94-.94-2.06-.94 2.06-2.06.94z\"/><path d=\"M17.41 7.96l-1.37-1.37c-.4-.4-.92-.59-1.43-.59-.52 0-1.04.2-1.43.59L10.3 9.45l-7.72 7.72c-.78.78-.78 2.05 0 2.83L4 21.41c.39.39.9.59 1.41.59.51 0 1.02-.2 1.41-.59l7.78-7.78 2.81-2.81c.8-.78.8-2.07 0-2.86zM5.41 20L4 18.59l7.72-7.72 1.47 1.35L5.41 20z\"/>\n",
              "  </svg>\n",
              "      </button>\n",
              "      \n",
              "  <style>\n",
              "    .colab-df-container {\n",
              "      display:flex;\n",
              "      flex-wrap:wrap;\n",
              "      gap: 12px;\n",
              "    }\n",
              "\n",
              "    .colab-df-convert {\n",
              "      background-color: #E8F0FE;\n",
              "      border: none;\n",
              "      border-radius: 50%;\n",
              "      cursor: pointer;\n",
              "      display: none;\n",
              "      fill: #1967D2;\n",
              "      height: 32px;\n",
              "      padding: 0 0 0 0;\n",
              "      width: 32px;\n",
              "    }\n",
              "\n",
              "    .colab-df-convert:hover {\n",
              "      background-color: #E2EBFA;\n",
              "      box-shadow: 0px 1px 2px rgba(60, 64, 67, 0.3), 0px 1px 3px 1px rgba(60, 64, 67, 0.15);\n",
              "      fill: #174EA6;\n",
              "    }\n",
              "\n",
              "    [theme=dark] .colab-df-convert {\n",
              "      background-color: #3B4455;\n",
              "      fill: #D2E3FC;\n",
              "    }\n",
              "\n",
              "    [theme=dark] .colab-df-convert:hover {\n",
              "      background-color: #434B5C;\n",
              "      box-shadow: 0px 1px 3px 1px rgba(0, 0, 0, 0.15);\n",
              "      filter: drop-shadow(0px 1px 2px rgba(0, 0, 0, 0.3));\n",
              "      fill: #FFFFFF;\n",
              "    }\n",
              "  </style>\n",
              "\n",
              "      <script>\n",
              "        const buttonEl =\n",
              "          document.querySelector('#df-11025d59-8347-46b0-9d1c-0ed07d3e13ab button.colab-df-convert');\n",
              "        buttonEl.style.display =\n",
              "          google.colab.kernel.accessAllowed ? 'block' : 'none';\n",
              "\n",
              "        async function convertToInteractive(key) {\n",
              "          const element = document.querySelector('#df-11025d59-8347-46b0-9d1c-0ed07d3e13ab');\n",
              "          const dataTable =\n",
              "            await google.colab.kernel.invokeFunction('convertToInteractive',\n",
              "                                                     [key], {});\n",
              "          if (!dataTable) return;\n",
              "\n",
              "          const docLinkHtml = 'Like what you see? Visit the ' +\n",
              "            '<a target=\"_blank\" href=https://colab.research.google.com/notebooks/data_table.ipynb>data table notebook</a>'\n",
              "            + ' to learn more about interactive tables.';\n",
              "          element.innerHTML = '';\n",
              "          dataTable['output_type'] = 'display_data';\n",
              "          await google.colab.output.renderOutput(dataTable, element);\n",
              "          const docLink = document.createElement('div');\n",
              "          docLink.innerHTML = docLinkHtml;\n",
              "          element.appendChild(docLink);\n",
              "        }\n",
              "      </script>\n",
              "    </div>\n",
              "  </div>\n",
              "  "
            ]
          },
          "metadata": {},
          "execution_count": 3
        }
      ]
    },
    {
      "cell_type": "markdown",
      "metadata": {
        "id": "6-B_qtEaYEd-"
      },
      "source": [
        "### **Q1. Quantos atributos (variáveis) e quantas entradas o nosso conjunto de dados possui? Quais os tipos das variáveis?**\n",
        "\n",
        "O arquivo utilizado é a versão simples do Airbnb. Na mesma página que baixamos o arquivo `listings.csv`, existe uma versão mais completa (`listings.csv.gz`) com 54.622 entradas e 18 variáveis."
      ]
    },
    {
      "cell_type": "code",
      "metadata": {
        "id": "TFRK0tniLV-G",
        "colab": {
          "base_uri": "https://localhost:8080/",
          "height": 399
        },
        "outputId": "e90b1e5f-960f-4ed3-878b-fedca609c0d3"
      },
      "source": [
        "# identificar o volume de dados do DataFrame\n",
        "print(\"Entradas:\\t {}\".format(df.shape[0]))\n",
        "print(\"Variáveis:\\t {}\\n\".format(df.shape[1]))\n",
        "\n",
        "# verificar as 5 primeiras entradas do dataset\n",
        "display(df.dtypes)"
      ],
      "execution_count": 4,
      "outputs": [
        {
          "output_type": "stream",
          "name": "stdout",
          "text": [
            "Entradas:\t 54622\n",
            "Variáveis:\t 18\n",
            "\n"
          ]
        },
        {
          "output_type": "display_data",
          "data": {
            "text/plain": [
              "id                                  int64\n",
              "name                               object\n",
              "host_id                             int64\n",
              "host_name                          object\n",
              "neighbourhood_group               float64\n",
              "neighbourhood                      object\n",
              "latitude                          float64\n",
              "longitude                         float64\n",
              "room_type                          object\n",
              "price                               int64\n",
              "minimum_nights                      int64\n",
              "number_of_reviews                   int64\n",
              "last_review                        object\n",
              "reviews_per_month                 float64\n",
              "calculated_host_listings_count      int64\n",
              "availability_365                    int64\n",
              "number_of_reviews_ltm               int64\n",
              "license                            object\n",
              "dtype: object"
            ]
          },
          "metadata": {}
        }
      ]
    },
    {
      "cell_type": "markdown",
      "metadata": {
        "id": "yz1urSUGW9iE"
      },
      "source": [
        "### **Q2. Qual a porcentagem de valores ausentes no *dataset*?**\n",
        "\n",
        "É importante analisar logo no início se os valores nulos são significativos na comparação com os dados do total de entrada.\n",
        "\n",
        "Algumas considerações a serem observadas:\n",
        "* Observa-se que a coluna `neighbourhood_group` possui 100% dos seus valores faltantes. \n",
        "* As variáveis `reviews_per_month` e `last_review` possuem 34% dos valores nulos."
      ]
    },
    {
      "cell_type": "code",
      "metadata": {
        "id": "plk2FjbCXOqP",
        "colab": {
          "base_uri": "https://localhost:8080/"
        },
        "outputId": "7e541d6c-f698-4725-e17c-e87a8f5e7ce6"
      },
      "source": [
        "# ordenar em ordem decrescente as variáveis por seus valores ausentes\n",
        "(df.isnull().sum()/ df.shape[0]).sort_values(ascending=False)"
      ],
      "execution_count": 5,
      "outputs": [
        {
          "output_type": "execute_result",
          "data": {
            "text/plain": [
              "neighbourhood_group               1.000000\n",
              "license                           0.968694\n",
              "reviews_per_month                 0.343177\n",
              "last_review                       0.343177\n",
              "host_name                         0.000751\n",
              "name                              0.000055\n",
              "number_of_reviews                 0.000000\n",
              "number_of_reviews_ltm             0.000000\n",
              "availability_365                  0.000000\n",
              "calculated_host_listings_count    0.000000\n",
              "id                                0.000000\n",
              "minimum_nights                    0.000000\n",
              "room_type                         0.000000\n",
              "longitude                         0.000000\n",
              "latitude                          0.000000\n",
              "neighbourhood                     0.000000\n",
              "host_id                           0.000000\n",
              "price                             0.000000\n",
              "dtype: float64"
            ]
          },
          "metadata": {},
          "execution_count": 5
        }
      ]
    },
    {
      "cell_type": "markdown",
      "metadata": {
        "id": "iHXvvHIxaoNc"
      },
      "source": [
        "### **Q3. Qual o tipo de distribuição das variáveis?** \n",
        "\n",
        "Para analisar a distribuição das variáveis, será utilizado o histograma para uma melhor visualização das informações."
      ]
    },
    {
      "cell_type": "code",
      "metadata": {
        "id": "q2wWSfeRbmBo",
        "colab": {
          "base_uri": "https://localhost:8080/",
          "height": 607
        },
        "outputId": "120b2570-c1a5-4672-a417-4b7c55805545"
      },
      "source": [
        "# plotar o histograma das variáveis numéricas\n",
        "df.hist(bins=16, figsize=(16,10));"
      ],
      "execution_count": 6,
      "outputs": [
        {
          "output_type": "display_data",
          "data": {
            "text/plain": [
              "<Figure size 1152x720 with 12 Axes>"
            ],
            "image/png": "[encoded data removed]"
          },
          "metadata": {
            "needs_background": "light"
          }
        }
      ]
    },
    {
      "cell_type": "markdown",
      "metadata": {
        "id": "7x4aw1j5wNmn"
      },
      "source": [
        "### **Q4. Há *outliers* presentes?**"
      ]
    },
    {
      "cell_type": "markdown",
      "metadata": {
        "id": "ba1xYYTug6bX"
      },
      "source": [
        "Durante a distribuição do histograma, é possível observar indícios da presença de *outliers*. Por exemplo:  `price`, `minimum_nights` e `calculated_host_listings_count` apresentam indícios de outliers.\n",
        "\n",
        "*Obs: Um outlier é um valor que foge da normalidade e que pode causar irregularidade nos resultados obtidos por meio de algoritmos e sistemas de análise.*\n",
        "\n",
        "Para confirmar a existência de outliers, existem duas maneiras na detecção. São elas:\n",
        "\n",
        "* Resumo estatístico por meio do método `describe()`\n",
        "* Plotar `boxplots` para a variável."
      ]
    },
    {
      "cell_type": "code",
      "metadata": {
        "id": "ff-8gUahLk-C",
        "colab": {
          "base_uri": "https://localhost:8080/",
          "height": 300
        },
        "outputId": "0e429b97-9029-4ee6-b19e-8e18cdc1ee89"
      },
      "source": [
        "# ver o resumo estatístico das variáveis numéricas\n",
        "df[['price', 'minimum_nights', 'number_of_reviews', 'reviews_per_month',\n",
        "    'calculated_host_listings_count', 'availability_365']].describe()"
      ],
      "execution_count": 7,
      "outputs": [
        {
          "output_type": "execute_result",
          "data": {
            "text/plain": [
              "              price  minimum_nights  number_of_reviews  reviews_per_month  \\\n",
              "count  54622.000000    54622.000000       54622.000000       35877.000000   \n",
              "mean     131.719692        3.206693          13.637088           0.551905   \n",
              "std      435.544273       11.710401          33.829552           0.852040   \n",
              "min        9.000000        1.000000           0.000000           0.010000   \n",
              "25%       56.000000        1.000000           0.000000           0.090000   \n",
              "50%       80.000000        2.000000           2.000000           0.230000   \n",
              "75%      120.000000        3.000000          11.000000           0.650000   \n",
              "max    38726.000000      999.000000         662.000000          10.780000   \n",
              "\n",
              "       calculated_host_listings_count  availability_365  \n",
              "count                    54622.000000      54622.000000  \n",
              "mean                        10.847754        233.283366  \n",
              "std                         31.371901        113.683865  \n",
              "min                          1.000000          0.000000  \n",
              "25%                          1.000000        141.000000  \n",
              "50%                          2.000000        272.000000  \n",
              "75%                          5.000000        332.000000  \n",
              "max                        273.000000        365.000000  "
            ],
            "text/html": [
              "\n",
              "  <div id=\"df-ad0d3739-d19a-4a00-aabe-2df93ea366f6\">\n",
              "    <div class=\"colab-df-container\">\n",
              "      <div>\n",
              "<style scoped>\n",
              "    .dataframe tbody tr th:only-of-type {\n",
              "        vertical-align: middle;\n",
              "    }\n",
              "\n",
              "    .dataframe tbody tr th {\n",
              "        vertical-align: top;\n",
              "    }\n",
              "\n",
              "    .dataframe thead th {\n",
              "        text-align: right;\n",
              "    }\n",
              "</style>\n",
              "<table border=\"1\" class=\"dataframe\">\n",
              "  <thead>\n",
              "    <tr style=\"text-align: right;\">\n",
              "      <th></th>\n",
              "      <th>price</th>\n",
              "      <th>minimum_nights</th>\n",
              "      <th>number_of_reviews</th>\n",
              "      <th>reviews_per_month</th>\n",
              "      <th>calculated_host_listings_count</th>\n",
              "      <th>availability_365</th>\n",
              "    </tr>\n",
              "  </thead>\n",
              "  <tbody>\n",
              "    <tr>\n",
              "      <th>count</th>\n",
              "      <td>54622.000000</td>\n",
              "      <td>54622.000000</td>\n",
              "      <td>54622.000000</td>\n",
              "      <td>35877.000000</td>\n",
              "      <td>54622.000000</td>\n",
              "      <td>54622.000000</td>\n",
              "    </tr>\n",
              "    <tr>\n",
              "      <th>mean</th>\n",
              "      <td>131.719692</td>\n",
              "      <td>3.206693</td>\n",
              "      <td>13.637088</td>\n",
              "      <td>0.551905</td>\n",
              "      <td>10.847754</td>\n",
              "      <td>233.283366</td>\n",
              "    </tr>\n",
              "    <tr>\n",
              "      <th>std</th>\n",
              "      <td>435.544273</td>\n",
              "      <td>11.710401</td>\n",
              "      <td>33.829552</td>\n",
              "      <td>0.852040</td>\n",
              "      <td>31.371901</td>\n",
              "      <td>113.683865</td>\n",
              "    </tr>\n",
              "    <tr>\n",
              "      <th>min</th>\n",
              "      <td>9.000000</td>\n",
              "      <td>1.000000</td>\n",
              "      <td>0.000000</td>\n",
              "      <td>0.010000</td>\n",
              "      <td>1.000000</td>\n",
              "      <td>0.000000</td>\n",
              "    </tr>\n",
              "    <tr>\n",
              "      <th>25%</th>\n",
              "      <td>56.000000</td>\n",
              "      <td>1.000000</td>\n",
              "      <td>0.000000</td>\n",
              "      <td>0.090000</td>\n",
              "      <td>1.000000</td>\n",
              "      <td>141.000000</td>\n",
              "    </tr>\n",
              "    <tr>\n",
              "      <th>50%</th>\n",
              "      <td>80.000000</td>\n",
              "      <td>2.000000</td>\n",
              "      <td>2.000000</td>\n",
              "      <td>0.230000</td>\n",
              "      <td>2.000000</td>\n",
              "      <td>272.000000</td>\n",
              "    </tr>\n",
              "    <tr>\n",
              "      <th>75%</th>\n",
              "      <td>120.000000</td>\n",
              "      <td>3.000000</td>\n",
              "      <td>11.000000</td>\n",
              "      <td>0.650000</td>\n",
              "      <td>5.000000</td>\n",
              "      <td>332.000000</td>\n",
              "    </tr>\n",
              "    <tr>\n",
              "      <th>max</th>\n",
              "      <td>38726.000000</td>\n",
              "      <td>999.000000</td>\n",
              "      <td>662.000000</td>\n",
              "      <td>10.780000</td>\n",
              "      <td>273.000000</td>\n",
              "      <td>365.000000</td>\n",
              "    </tr>\n",
              "  </tbody>\n",
              "</table>\n",
              "</div>\n",
              "      <button class=\"colab-df-convert\" onclick=\"convertToInteractive('df-ad0d3739-d19a-4a00-aabe-2df93ea366f6')\"\n",
              "              title=\"Convert this dataframe to an interactive table.\"\n",
              "              style=\"display:none;\">\n",
              "        \n",
              "  <svg xmlns=\"http://www.w3.org/2000/svg\" height=\"24px\"viewBox=\"0 0 24 24\"\n",
              "       width=\"24px\">\n",
              "    <path d=\"M0 0h24v24H0V0z\" fill=\"none\"/>\n",
              "    <path d=\"M18.56 5.44l.94 2.06.94-2.06 2.06-.94-2.06-.94-.94-2.06-.94 2.06-2.06.94zm-11 1L8.5 8.5l.94-2.06 2.06-.94-2.06-.94L8.5 2.5l-.94 2.06-2.06.94zm10 10l.94 2.06.94-2.06 2.06-.94-2.06-.94-.94-2.06-.94 2.06-2.06.94z\"/><path d=\"M17.41 7.96l-1.37-1.37c-.4-.4-.92-.59-1.43-.59-.52 0-1.04.2-1.43.59L10.3 9.45l-7.72 7.72c-.78.78-.78 2.05 0 2.83L4 21.41c.39.39.9.59 1.41.59.51 0 1.02-.2 1.41-.59l7.78-7.78 2.81-2.81c.8-.78.8-2.07 0-2.86zM5.41 20L4 18.59l7.72-7.72 1.47 1.35L5.41 20z\"/>\n",
              "  </svg>\n",
              "      </button>\n",
              "      \n",
              "  <style>\n",
              "    .colab-df-container {\n",
              "      display:flex;\n",
              "      flex-wrap:wrap;\n",
              "      gap: 12px;\n",
              "    }\n",
              "\n",
              "    .colab-df-convert {\n",
              "      background-color: #E8F0FE;\n",
              "      border: none;\n",
              "      border-radius: 50%;\n",
              "      cursor: pointer;\n",
              "      display: none;\n",
              "      fill: #1967D2;\n",
              "      height: 32px;\n",
              "      padding: 0 0 0 0;\n",
              "      width: 32px;\n",
              "    }\n",
              "\n",
              "    .colab-df-convert:hover {\n",
              "      background-color: #E2EBFA;\n",
              "      box-shadow: 0px 1px 2px rgba(60, 64, 67, 0.3), 0px 1px 3px 1px rgba(60, 64, 67, 0.15);\n",
              "      fill: #174EA6;\n",
              "    }\n",
              "\n",
              "    [theme=dark] .colab-df-convert {\n",
              "      background-color: #3B4455;\n",
              "      fill: #D2E3FC;\n",
              "    }\n",
              "\n",
              "    [theme=dark] .colab-df-convert:hover {\n",
              "      background-color: #434B5C;\n",
              "      box-shadow: 0px 1px 3px 1px rgba(0, 0, 0, 0.15);\n",
              "      filter: drop-shadow(0px 1px 2px rgba(0, 0, 0, 0.3));\n",
              "      fill: #FFFFFF;\n",
              "    }\n",
              "  </style>\n",
              "\n",
              "      <script>\n",
              "        const buttonEl =\n",
              "          document.querySelector('#df-ad0d3739-d19a-4a00-aabe-2df93ea366f6 button.colab-df-convert');\n",
              "        buttonEl.style.display =\n",
              "          google.colab.kernel.accessAllowed ? 'block' : 'none';\n",
              "\n",
              "        async function convertToInteractive(key) {\n",
              "          const element = document.querySelector('#df-ad0d3739-d19a-4a00-aabe-2df93ea366f6');\n",
              "          const dataTable =\n",
              "            await google.colab.kernel.invokeFunction('convertToInteractive',\n",
              "                                                     [key], {});\n",
              "          if (!dataTable) return;\n",
              "\n",
              "          const docLinkHtml = 'Like what you see? Visit the ' +\n",
              "            '<a target=\"_blank\" href=https://colab.research.google.com/notebooks/data_table.ipynb>data table notebook</a>'\n",
              "            + ' to learn more about interactive tables.';\n",
              "          element.innerHTML = '';\n",
              "          dataTable['output_type'] = 'display_data';\n",
              "          await google.colab.output.renderOutput(dataTable, element);\n",
              "          const docLink = document.createElement('div');\n",
              "          docLink.innerHTML = docLinkHtml;\n",
              "          element.appendChild(docLink);\n",
              "        }\n",
              "      </script>\n",
              "    </div>\n",
              "  </div>\n",
              "  "
            ]
          },
          "metadata": {},
          "execution_count": 7
        }
      ]
    },
    {
      "cell_type": "markdown",
      "metadata": {
        "id": "zAx_GIAzhZTn"
      },
      "source": [
        "De acordo com o resumo estatístico acima, podemos analisar que:\n",
        "\n",
        "* A variável `price` mostra que 75% do valor se encontra abaixo de 120. E o seu valor máximo é 38726.\n",
        "* A quantidade mínima de noites (`minimum_nights`) para 75% é de 3 noites.\n",
        "* A quantidade mínima de noites (`minimum_nights`) está acima de 365 dias no ano.\n",
        "* O número de reviews (`number_of_reviews`) se torna significativo para 75%.\n",
        "\n",
        "#### **Boxplot para minimum_nights**\n"
      ]
    },
    {
      "cell_type": "code",
      "metadata": {
        "id": "_-X_Z58of_dC",
        "colab": {
          "base_uri": "https://localhost:8080/",
          "height": 280
        },
        "outputId": "167beffb-6c1b-4c05-8a94-7ec5ea637f28"
      },
      "source": [
        "# minimum_nights\n",
        "df.minimum_nights.plot(kind='box', vert=False, figsize=(15,3))\n",
        "plt.show()\n",
        "\n",
        "# ver quantidade de valores acima de 30 dias para minimum_nights\n",
        "print(\"\\nminimum_nights: valores acima de 30 noites:\")\n",
        "print(\"{} entradas\".format(len(df[df.minimum_nights > 30])))\n",
        "print(\"{:.4f}%\".format((len(df[df.minimum_nights > 30]) / df.shape[0])*100))"
      ],
      "execution_count": 8,
      "outputs": [
        {
          "output_type": "display_data",
          "data": {
            "text/plain": [
              "<Figure size 1080x216 with 1 Axes>"
            ],
            "image/png": "[encoded data removed]"
          },
          "metadata": {
            "needs_background": "light"
          }
        },
        {
          "output_type": "stream",
          "name": "stdout",
          "text": [
            "\n",
            "minimum_nights: valores acima de 30 noites:\n",
            "94 entradas\n",
            "0.1721%\n"
          ]
        }
      ]
    },
    {
      "cell_type": "markdown",
      "metadata": {
        "id": "R1G8lOfGxfW0"
      },
      "source": [
        "#### **Boxplot para price**"
      ]
    },
    {
      "cell_type": "code",
      "metadata": {
        "id": "uQhJ229OkX_o",
        "colab": {
          "base_uri": "https://localhost:8080/",
          "height": 280
        },
        "outputId": "711b0b67-e618-4466-8609-d0ed4b121148"
      },
      "source": [
        "# price\n",
        "df.price.plot(kind='box', vert=False, figsize=(15, 3),)\n",
        "plt.show()\n",
        "\n",
        "# ver quantidade de valores acima de 850 para price\n",
        "print(\"\\nprice: valores acima de 850\")\n",
        "print(\"{} entradas\".format(len(df[df.price > 850])))\n",
        "print(\"{:.4f}%\".format((len(df[df.price > 850]) / df.shape[0])*100))\n",
        "\n",
        "# df.price.plot(kind='box', vert=False, xlim=(0,1300), figsize=(15,3));"
      ],
      "execution_count": 9,
      "outputs": [
        {
          "output_type": "display_data",
          "data": {
            "text/plain": [
              "<Figure size 1080x216 with 1 Axes>"
            ],
            "image/png": "[encoded data removed]"
          },
          "metadata": {
            "needs_background": "light"
          }
        },
        {
          "output_type": "stream",
          "name": "stdout",
          "text": [
            "\n",
            "price: valores acima de 850\n",
            "523 entradas\n",
            "0.9575%\n"
          ]
        }
      ]
    },
    {
      "cell_type": "markdown",
      "metadata": {
        "id": "TfxQ1PITFc5Q"
      },
      "source": [
        "#### **Histogramas sem outliers**\n",
        "\n",
        "Identificando *outliers* nas variáveis `price` e `minimum_nights`, ao limpar o *DataFrame* deles, plotaremos o um novo histograma."
      ]
    },
    {
      "cell_type": "code",
      "metadata": {
        "id": "67JxJ6n_FrTn",
        "colab": {
          "base_uri": "https://localhost:8080/",
          "height": 607
        },
        "outputId": "1a291958-a31e-462a-ad0a-b0f5e1554ecd"
      },
      "source": [
        "# remover os *outliers* em um novo DataFrame\n",
        "df_clean = df.copy()\n",
        "df_clean.drop(df_clean[df_clean.price > 850].index, axis=0, inplace=True)\n",
        "df_clean.drop(df_clean[df_clean.minimum_nights > 30].index, axis=0, inplace=True)\n",
        "\n",
        "# remover `neighbourhood_group`, pois está vazio\n",
        "df_clean.drop('neighbourhood_group', axis=1, inplace=True)\n",
        "\n",
        "# plotar o histograma para as variáveis numéricas\n",
        "df_clean.hist(bins=16, figsize=(16,10));"
      ],
      "execution_count": 10,
      "outputs": [
        {
          "output_type": "display_data",
          "data": {
            "text/plain": [
              "<Figure size 1152x720 with 12 Axes>"
            ],
            "image/png": "[encoded data removed]"
          },
          "metadata": {
            "needs_background": "light"
          }
        }
      ]
    },
    {
      "cell_type": "markdown",
      "metadata": {
        "id": "IXn2oIo5qx-w"
      },
      "source": [
        "### **Q5. Qual a correlação existente entre as variáveis**\n",
        "\n",
        "Correlação significa que existe uma relação/semelhança entre duas ideias, coisas.\n",
        "\n",
        "Para esse caso específico, estamos buscando uma relação ou semelhança entre duas variáveis dos dados analisados.\n",
        "\n",
        "Para a seguinte análise, seguiremos os passos a seguir:\n",
        "* Criar uma matriz de correlação\n",
        "* Gerar um *heatmap* a partir dessa matriz usando a biblioteca `seaborn`"
      ]
    },
    {
      "cell_type": "code",
      "metadata": {
        "id": "x2ayzBajqxyd",
        "colab": {
          "base_uri": "https://localhost:8080/",
          "height": 238
        },
        "outputId": "8e6f735b-3bb8-4ece-86c5-205cc5d2202a"
      },
      "source": [
        "# criar uma matriz de correlação\n",
        "corr = df_clean[['price', 'minimum_nights', 'number_of_reviews', 'reviews_per_month',\n",
        "    'calculated_host_listings_count', 'availability_365']].corr()\n",
        "\n",
        "display(corr)"
      ],
      "execution_count": 34,
      "outputs": [
        {
          "output_type": "display_data",
          "data": {
            "text/plain": [
              "                                   price  minimum_nights  number_of_reviews  \\\n",
              "price                           1.000000        0.102967          -0.115194   \n",
              "minimum_nights                  0.102967        1.000000          -0.082771   \n",
              "number_of_reviews              -0.115194       -0.082771           1.000000   \n",
              "reviews_per_month              -0.113590       -0.156628           0.609671   \n",
              "calculated_host_listings_count  0.218781       -0.023046          -0.074016   \n",
              "availability_365               -0.029405       -0.071694          -0.044782   \n",
              "\n",
              "                                reviews_per_month  \\\n",
              "price                                   -0.113590   \n",
              "minimum_nights                          -0.156628   \n",
              "number_of_reviews                        0.609671   \n",
              "reviews_per_month                        1.000000   \n",
              "calculated_host_listings_count          -0.004240   \n",
              "availability_365                         0.006784   \n",
              "\n",
              "                                calculated_host_listings_count  \\\n",
              "price                                                 0.218781   \n",
              "minimum_nights                                       -0.023046   \n",
              "number_of_reviews                                    -0.074016   \n",
              "reviews_per_month                                    -0.004240   \n",
              "calculated_host_listings_count                        1.000000   \n",
              "availability_365                                     -0.027104   \n",
              "\n",
              "                                availability_365  \n",
              "price                                  -0.029405  \n",
              "minimum_nights                         -0.071694  \n",
              "number_of_reviews                      -0.044782  \n",
              "reviews_per_month                       0.006784  \n",
              "calculated_host_listings_count         -0.027104  \n",
              "availability_365                        1.000000  "
            ],
            "text/html": [
              "\n",
              "  <div id=\"df-a182bcea-3620-4e44-82d4-a06f414c4edb\">\n",
              "    <div class=\"colab-df-container\">\n",
              "      <div>\n",
              "<style scoped>\n",
              "    .dataframe tbody tr th:only-of-type {\n",
              "        vertical-align: middle;\n",
              "    }\n",
              "\n",
              "    .dataframe tbody tr th {\n",
              "        vertical-align: top;\n",
              "    }\n",
              "\n",
              "    .dataframe thead th {\n",
              "        text-align: right;\n",
              "    }\n",
              "</style>\n",
              "<table border=\"1\" class=\"dataframe\">\n",
              "  <thead>\n",
              "    <tr style=\"text-align: right;\">\n",
              "      <th></th>\n",
              "      <th>price</th>\n",
              "      <th>minimum_nights</th>\n",
              "      <th>number_of_reviews</th>\n",
              "      <th>reviews_per_month</th>\n",
              "      <th>calculated_host_listings_count</th>\n",
              "      <th>availability_365</th>\n",
              "    </tr>\n",
              "  </thead>\n",
              "  <tbody>\n",
              "    <tr>\n",
              "      <th>price</th>\n",
              "      <td>1.000000</td>\n",
              "      <td>0.102967</td>\n",
              "      <td>-0.115194</td>\n",
              "      <td>-0.113590</td>\n",
              "      <td>0.218781</td>\n",
              "      <td>-0.029405</td>\n",
              "    </tr>\n",
              "    <tr>\n",
              "      <th>minimum_nights</th>\n",
              "      <td>0.102967</td>\n",
              "      <td>1.000000</td>\n",
              "      <td>-0.082771</td>\n",
              "      <td>-0.156628</td>\n",
              "      <td>-0.023046</td>\n",
              "      <td>-0.071694</td>\n",
              "    </tr>\n",
              "    <tr>\n",
              "      <th>number_of_reviews</th>\n",
              "      <td>-0.115194</td>\n",
              "      <td>-0.082771</td>\n",
              "      <td>1.000000</td>\n",
              "      <td>0.609671</td>\n",
              "      <td>-0.074016</td>\n",
              "      <td>-0.044782</td>\n",
              "    </tr>\n",
              "    <tr>\n",
              "      <th>reviews_per_month</th>\n",
              "      <td>-0.113590</td>\n",
              "      <td>-0.156628</td>\n",
              "      <td>0.609671</td>\n",
              "      <td>1.000000</td>\n",
              "      <td>-0.004240</td>\n",
              "      <td>0.006784</td>\n",
              "    </tr>\n",
              "    <tr>\n",
              "      <th>calculated_host_listings_count</th>\n",
              "      <td>0.218781</td>\n",
              "      <td>-0.023046</td>\n",
              "      <td>-0.074016</td>\n",
              "      <td>-0.004240</td>\n",
              "      <td>1.000000</td>\n",
              "      <td>-0.027104</td>\n",
              "    </tr>\n",
              "    <tr>\n",
              "      <th>availability_365</th>\n",
              "      <td>-0.029405</td>\n",
              "      <td>-0.071694</td>\n",
              "      <td>-0.044782</td>\n",
              "      <td>0.006784</td>\n",
              "      <td>-0.027104</td>\n",
              "      <td>1.000000</td>\n",
              "    </tr>\n",
              "  </tbody>\n",
              "</table>\n",
              "</div>\n",
              "      <button class=\"colab-df-convert\" onclick=\"convertToInteractive('df-a182bcea-3620-4e44-82d4-a06f414c4edb')\"\n",
              "              title=\"Convert this dataframe to an interactive table.\"\n",
              "              style=\"display:none;\">\n",
              "        \n",
              "  <svg xmlns=\"http://www.w3.org/2000/svg\" height=\"24px\"viewBox=\"0 0 24 24\"\n",
              "       width=\"24px\">\n",
              "    <path d=\"M0 0h24v24H0V0z\" fill=\"none\"/>\n",
              "    <path d=\"M18.56 5.44l.94 2.06.94-2.06 2.06-.94-2.06-.94-.94-2.06-.94 2.06-2.06.94zm-11 1L8.5 8.5l.94-2.06 2.06-.94-2.06-.94L8.5 2.5l-.94 2.06-2.06.94zm10 10l.94 2.06.94-2.06 2.06-.94-2.06-.94-.94-2.06-.94 2.06-2.06.94z\"/><path d=\"M17.41 7.96l-1.37-1.37c-.4-.4-.92-.59-1.43-.59-.52 0-1.04.2-1.43.59L10.3 9.45l-7.72 7.72c-.78.78-.78 2.05 0 2.83L4 21.41c.39.39.9.59 1.41.59.51 0 1.02-.2 1.41-.59l7.78-7.78 2.81-2.81c.8-.78.8-2.07 0-2.86zM5.41 20L4 18.59l7.72-7.72 1.47 1.35L5.41 20z\"/>\n",
              "  </svg>\n",
              "      </button>\n",
              "      \n",
              "  <style>\n",
              "    .colab-df-container {\n",
              "      display:flex;\n",
              "      flex-wrap:wrap;\n",
              "      gap: 12px;\n",
              "    }\n",
              "\n",
              "    .colab-df-convert {\n",
              "      background-color: #E8F0FE;\n",
              "      border: none;\n",
              "      border-radius: 50%;\n",
              "      cursor: pointer;\n",
              "      display: none;\n",
              "      fill: #1967D2;\n",
              "      height: 32px;\n",
              "      padding: 0 0 0 0;\n",
              "      width: 32px;\n",
              "    }\n",
              "\n",
              "    .colab-df-convert:hover {\n",
              "      background-color: #E2EBFA;\n",
              "      box-shadow: 0px 1px 2px rgba(60, 64, 67, 0.3), 0px 1px 3px 1px rgba(60, 64, 67, 0.15);\n",
              "      fill: #174EA6;\n",
              "    }\n",
              "\n",
              "    [theme=dark] .colab-df-convert {\n",
              "      background-color: #3B4455;\n",
              "      fill: #D2E3FC;\n",
              "    }\n",
              "\n",
              "    [theme=dark] .colab-df-convert:hover {\n",
              "      background-color: #434B5C;\n",
              "      box-shadow: 0px 1px 3px 1px rgba(0, 0, 0, 0.15);\n",
              "      filter: drop-shadow(0px 1px 2px rgba(0, 0, 0, 0.3));\n",
              "      fill: #FFFFFF;\n",
              "    }\n",
              "  </style>\n",
              "\n",
              "      <script>\n",
              "        const buttonEl =\n",
              "          document.querySelector('#df-a182bcea-3620-4e44-82d4-a06f414c4edb button.colab-df-convert');\n",
              "        buttonEl.style.display =\n",
              "          google.colab.kernel.accessAllowed ? 'block' : 'none';\n",
              "\n",
              "        async function convertToInteractive(key) {\n",
              "          const element = document.querySelector('#df-a182bcea-3620-4e44-82d4-a06f414c4edb');\n",
              "          const dataTable =\n",
              "            await google.colab.kernel.invokeFunction('convertToInteractive',\n",
              "                                                     [key], {});\n",
              "          if (!dataTable) return;\n",
              "\n",
              "          const docLinkHtml = 'Like what you see? Visit the ' +\n",
              "            '<a target=\"_blank\" href=https://colab.research.google.com/notebooks/data_table.ipynb>data table notebook</a>'\n",
              "            + ' to learn more about interactive tables.';\n",
              "          element.innerHTML = '';\n",
              "          dataTable['output_type'] = 'display_data';\n",
              "          await google.colab.output.renderOutput(dataTable, element);\n",
              "          const docLink = document.createElement('div');\n",
              "          docLink.innerHTML = docLinkHtml;\n",
              "          element.appendChild(docLink);\n",
              "        }\n",
              "      </script>\n",
              "    </div>\n",
              "  </div>\n",
              "  "
            ]
          },
          "metadata": {}
        }
      ]
    },
    {
      "cell_type": "code",
      "metadata": {
        "id": "91UujDr6ueqE",
        "colab": {
          "base_uri": "https://localhost:8080/",
          "height": 411
        },
        "outputId": "91990100-6ac1-497e-c5b2-7fcde0ecb81d"
      },
      "source": [
        "sns.heatmap(corr, cmap='RdBu', fmt='.2f', square=True, linecolor='white', annot=True );"
      ],
      "execution_count": 39,
      "outputs": [
        {
          "output_type": "display_data",
          "data": {
            "text/plain": [
              "<Figure size 432x288 with 2 Axes>"
            ],
            "image/png": "[encoded data removed]"
          },
          "metadata": {
            "needs_background": "light"
          }
        }
      ]
    },
    {
      "cell_type": "markdown",
      "metadata": {
        "id": "7b6RMWpuHKN-"
      },
      "source": [
        "### **Q6. Qual o tipo de imóvel mais alugado no Airbnb?**\n",
        "\n",
        "A variável `room_type` mostra o tipo de locação que está anunciada no Airbnb.\n",
        "\n",
        "Contaremos a quantidade de ocorrências de cada tipo de aluguel usando `value_counts()`."
      ]
    },
    {
      "cell_type": "code",
      "metadata": {
        "id": "ueLPNWvPHgfB",
        "colab": {
          "base_uri": "https://localhost:8080/"
        },
        "outputId": "8588e9df-ee24-4882-e727-9c3ce0be6f77"
      },
      "source": [
        "# mostrar a quantidade de cada tipo de imóvel disponível\n",
        "df_clean.room_type.value_counts()"
      ],
      "execution_count": 40,
      "outputs": [
        {
          "output_type": "execute_result",
          "data": {
            "text/plain": [
              "Entire home/apt    44120\n",
              "Private room        9320\n",
              "Hotel room           484\n",
              "Shared room           82\n",
              "Name: room_type, dtype: int64"
            ]
          },
          "metadata": {},
          "execution_count": 40
        }
      ]
    },
    {
      "cell_type": "code",
      "metadata": {
        "id": "EvwoO-XAHhIm",
        "colab": {
          "base_uri": "https://localhost:8080/"
        },
        "outputId": "773e7ce3-015d-429d-e7bc-d706ad673a7a"
      },
      "source": [
        "# mostrar a porcentagem de cada tipo de imóvel disponível\n",
        "df_clean.room_type.value_counts() / df_clean.shape[0]"
      ],
      "execution_count": 42,
      "outputs": [
        {
          "output_type": "execute_result",
          "data": {
            "text/plain": [
              "Entire home/apt    0.816946\n",
              "Private room       0.172573\n",
              "Hotel room         0.008962\n",
              "Shared room        0.001518\n",
              "Name: room_type, dtype: float64"
            ]
          },
          "metadata": {},
          "execution_count": 42
        }
      ]
    },
    {
      "cell_type": "markdown",
      "source": [
        "**De acordo com os dados analisados, segue as observações:**\n",
        "\n",
        "*   Apt/casa inteiro representam **81,7%** dos imóveis listados no Airbnb.\n",
        "*   Quartos privativos representam **17%** da lista."
      ],
      "metadata": {
        "id": "yRFCKv2eLl03"
      }
    },
    {
      "cell_type": "markdown",
      "metadata": {
        "id": "MFa5NbnLJMcd"
      },
      "source": [
        "### **Q7. Qual a localidade mais cara da Sicilia?**\n",
        "\n",
        "A partir do `groupby()` será verificado uma variável em função da outra. Para o caso em análise, será comparado os bairros ***neighbourhoods*** com o preço de locação no Airbnb."
      ]
    },
    {
      "cell_type": "code",
      "source": [
        "df_clean.groupby(['neighbourhood']).price.mean().sort_values(ascending=False)[:10]"
      ],
      "metadata": {
        "colab": {
          "base_uri": "https://localhost:8080/"
        },
        "id": "1kUSWQ80cx_s",
        "outputId": "e4bd0d34-0037-43e7-b868-cde613310161"
      },
      "execution_count": 43,
      "outputs": [
        {
          "output_type": "execute_result",
          "data": {
            "text/plain": [
              "neighbourhood\n",
              "San Teodoro               518.500000\n",
              "Bompensiere               488.000000\n",
              "Castel di Lucio           290.000000\n",
              "Paceco                    238.555556\n",
              "Ventimiglia di Sicilia    224.000000\n",
              "Chiusa Sclafani           212.500000\n",
              "Bivona                    205.500000\n",
              "San Biagio Platani        180.000000\n",
              "Ramacca                   175.833333\n",
              "Giarratana                175.125000\n",
              "Name: price, dtype: float64"
            ]
          },
          "metadata": {},
          "execution_count": 43
        }
      ]
    },
    {
      "cell_type": "markdown",
      "metadata": {
        "id": "wTt-H7G0Q87F"
      },
      "source": [
        "De acordo com os dados, os bairros mais caro da Sicilia são: **San Teodoro, Bompensiere e Castel di Lucio.**"
      ]
    },
    {
      "cell_type": "code",
      "metadata": {
        "id": "07RIuc0ERlVc",
        "colab": {
          "base_uri": "https://localhost:8080/",
          "height": 228
        },
        "outputId": "c8b427a2-d527-4144-8ef3-e97f7820f1d5"
      },
      "source": [
        "# ver quantidade de imóveis em San Teodoro\n",
        "print(df_clean[df_clean.neighbourhood == \"San Teodoro\"].shape)\n",
        "\n",
        "# ver as entradas de San Teodoro\n",
        "df_clean[df_clean.neighbourhood == \"San Teodoro\"]"
      ],
      "execution_count": 49,
      "outputs": [
        {
          "output_type": "stream",
          "name": "stdout",
          "text": [
            "(2, 17)\n"
          ]
        },
        {
          "output_type": "execute_result",
          "data": {
            "text/plain": [
              "                       id            name   host_id     host_name  \\\n",
              "44578  544877428311071495  Villa Adelaide  53830511  ~ Buena Onda   \n",
              "47492  602551192036183896  Villa Adelaide  26941571    Buena Onda   \n",
              "\n",
              "      neighbourhood  latitude  longitude        room_type  price  \\\n",
              "44578   San Teodoro  37.84583   14.69947  Entire home/apt    542   \n",
              "47492   San Teodoro  37.84717   14.70071  Entire home/apt    495   \n",
              "\n",
              "       minimum_nights  number_of_reviews last_review  reviews_per_month  \\\n",
              "44578               4                  0         NaN                NaN   \n",
              "47492               1                  0         NaN                NaN   \n",
              "\n",
              "       calculated_host_listings_count  availability_365  \\\n",
              "44578                              81               106   \n",
              "47492                              68               106   \n",
              "\n",
              "       number_of_reviews_ltm license  \n",
              "44578                      0     NaN  \n",
              "47492                      0     NaN  "
            ],
            "text/html": [
              "\n",
              "  <div id=\"df-42c87eb7-7000-4c6a-8b5d-0d39abef3e1d\">\n",
              "    <div class=\"colab-df-container\">\n",
              "      <div>\n",
              "<style scoped>\n",
              "    .dataframe tbody tr th:only-of-type {\n",
              "        vertical-align: middle;\n",
              "    }\n",
              "\n",
              "    .dataframe tbody tr th {\n",
              "        vertical-align: top;\n",
              "    }\n",
              "\n",
              "    .dataframe thead th {\n",
              "        text-align: right;\n",
              "    }\n",
              "</style>\n",
              "<table border=\"1\" class=\"dataframe\">\n",
              "  <thead>\n",
              "    <tr style=\"text-align: right;\">\n",
              "      <th></th>\n",
              "      <th>id</th>\n",
              "      <th>name</th>\n",
              "      <th>host_id</th>\n",
              "      <th>host_name</th>\n",
              "      <th>neighbourhood</th>\n",
              "      <th>latitude</th>\n",
              "      <th>longitude</th>\n",
              "      <th>room_type</th>\n",
              "      <th>price</th>\n",
              "      <th>minimum_nights</th>\n",
              "      <th>number_of_reviews</th>\n",
              "      <th>last_review</th>\n",
              "      <th>reviews_per_month</th>\n",
              "      <th>calculated_host_listings_count</th>\n",
              "      <th>availability_365</th>\n",
              "      <th>number_of_reviews_ltm</th>\n",
              "      <th>license</th>\n",
              "    </tr>\n",
              "  </thead>\n",
              "  <tbody>\n",
              "    <tr>\n",
              "      <th>44578</th>\n",
              "      <td>544877428311071495</td>\n",
              "      <td>Villa Adelaide</td>\n",
              "      <td>53830511</td>\n",
              "      <td>~ Buena Onda</td>\n",
              "      <td>San Teodoro</td>\n",
              "      <td>37.84583</td>\n",
              "      <td>14.69947</td>\n",
              "      <td>Entire home/apt</td>\n",
              "      <td>542</td>\n",
              "      <td>4</td>\n",
              "      <td>0</td>\n",
              "      <td>NaN</td>\n",
              "      <td>NaN</td>\n",
              "      <td>81</td>\n",
              "      <td>106</td>\n",
              "      <td>0</td>\n",
              "      <td>NaN</td>\n",
              "    </tr>\n",
              "    <tr>\n",
              "      <th>47492</th>\n",
              "      <td>602551192036183896</td>\n",
              "      <td>Villa Adelaide</td>\n",
              "      <td>26941571</td>\n",
              "      <td>Buena Onda</td>\n",
              "      <td>San Teodoro</td>\n",
              "      <td>37.84717</td>\n",
              "      <td>14.70071</td>\n",
              "      <td>Entire home/apt</td>\n",
              "      <td>495</td>\n",
              "      <td>1</td>\n",
              "      <td>0</td>\n",
              "      <td>NaN</td>\n",
              "      <td>NaN</td>\n",
              "      <td>68</td>\n",
              "      <td>106</td>\n",
              "      <td>0</td>\n",
              "      <td>NaN</td>\n",
              "    </tr>\n",
              "  </tbody>\n",
              "</table>\n",
              "</div>\n",
              "      <button class=\"colab-df-convert\" onclick=\"convertToInteractive('df-42c87eb7-7000-4c6a-8b5d-0d39abef3e1d')\"\n",
              "              title=\"Convert this dataframe to an interactive table.\"\n",
              "              style=\"display:none;\">\n",
              "        \n",
              "  <svg xmlns=\"http://www.w3.org/2000/svg\" height=\"24px\"viewBox=\"0 0 24 24\"\n",
              "       width=\"24px\">\n",
              "    <path d=\"M0 0h24v24H0V0z\" fill=\"none\"/>\n",
              "    <path d=\"M18.56 5.44l.94 2.06.94-2.06 2.06-.94-2.06-.94-.94-2.06-.94 2.06-2.06.94zm-11 1L8.5 8.5l.94-2.06 2.06-.94-2.06-.94L8.5 2.5l-.94 2.06-2.06.94zm10 10l.94 2.06.94-2.06 2.06-.94-2.06-.94-.94-2.06-.94 2.06-2.06.94z\"/><path d=\"M17.41 7.96l-1.37-1.37c-.4-.4-.92-.59-1.43-.59-.52 0-1.04.2-1.43.59L10.3 9.45l-7.72 7.72c-.78.78-.78 2.05 0 2.83L4 21.41c.39.39.9.59 1.41.59.51 0 1.02-.2 1.41-.59l7.78-7.78 2.81-2.81c.8-.78.8-2.07 0-2.86zM5.41 20L4 18.59l7.72-7.72 1.47 1.35L5.41 20z\"/>\n",
              "  </svg>\n",
              "      </button>\n",
              "      \n",
              "  <style>\n",
              "    .colab-df-container {\n",
              "      display:flex;\n",
              "      flex-wrap:wrap;\n",
              "      gap: 12px;\n",
              "    }\n",
              "\n",
              "    .colab-df-convert {\n",
              "      background-color: #E8F0FE;\n",
              "      border: none;\n",
              "      border-radius: 50%;\n",
              "      cursor: pointer;\n",
              "      display: none;\n",
              "      fill: #1967D2;\n",
              "      height: 32px;\n",
              "      padding: 0 0 0 0;\n",
              "      width: 32px;\n",
              "    }\n",
              "\n",
              "    .colab-df-convert:hover {\n",
              "      background-color: #E2EBFA;\n",
              "      box-shadow: 0px 1px 2px rgba(60, 64, 67, 0.3), 0px 1px 3px 1px rgba(60, 64, 67, 0.15);\n",
              "      fill: #174EA6;\n",
              "    }\n",
              "\n",
              "    [theme=dark] .colab-df-convert {\n",
              "      background-color: #3B4455;\n",
              "      fill: #D2E3FC;\n",
              "    }\n",
              "\n",
              "    [theme=dark] .colab-df-convert:hover {\n",
              "      background-color: #434B5C;\n",
              "      box-shadow: 0px 1px 3px 1px rgba(0, 0, 0, 0.15);\n",
              "      filter: drop-shadow(0px 1px 2px rgba(0, 0, 0, 0.3));\n",
              "      fill: #FFFFFF;\n",
              "    }\n",
              "  </style>\n",
              "\n",
              "      <script>\n",
              "        const buttonEl =\n",
              "          document.querySelector('#df-42c87eb7-7000-4c6a-8b5d-0d39abef3e1d button.colab-df-convert');\n",
              "        buttonEl.style.display =\n",
              "          google.colab.kernel.accessAllowed ? 'block' : 'none';\n",
              "\n",
              "        async function convertToInteractive(key) {\n",
              "          const element = document.querySelector('#df-42c87eb7-7000-4c6a-8b5d-0d39abef3e1d');\n",
              "          const dataTable =\n",
              "            await google.colab.kernel.invokeFunction('convertToInteractive',\n",
              "                                                     [key], {});\n",
              "          if (!dataTable) return;\n",
              "\n",
              "          const docLinkHtml = 'Like what you see? Visit the ' +\n",
              "            '<a target=\"_blank\" href=https://colab.research.google.com/notebooks/data_table.ipynb>data table notebook</a>'\n",
              "            + ' to learn more about interactive tables.';\n",
              "          element.innerHTML = '';\n",
              "          dataTable['output_type'] = 'display_data';\n",
              "          await google.colab.output.renderOutput(dataTable, element);\n",
              "          const docLink = document.createElement('div');\n",
              "          docLink.innerHTML = docLinkHtml;\n",
              "          element.appendChild(docLink);\n",
              "        }\n",
              "      </script>\n",
              "    </div>\n",
              "  </div>\n",
              "  "
            ]
          },
          "metadata": {},
          "execution_count": 49
        }
      ]
    },
    {
      "cell_type": "markdown",
      "source": [
        "*A pesquisa apresenta apenas 2 imóveis em San Teodoro. Em uma breve pesquisa no site [Tripadvisor](https://www.tripadvisor.com.br/Tourism-g652016-San_Teodoro_Province_of_Olbia_Tempio_Sardinia-Vacations.html)   , San Teodoro é uma típica cidade litorânea da Sardenha com lindas praias, ótimos restaurantes e um bando gigante de flamingos rosas. Sua população é de 2573 habitantes, o que explica um baixo número de imóveis disponibilizados no Airbnb. Sujeito à atualização.*"
      ],
      "metadata": {
        "id": "EiiHdjJkkY1S"
      }
    },
    {
      "cell_type": "code",
      "source": [
        "# ver quantidade de imóveis em Bompensiere\n",
        "print(df_clean[df_clean.neighbourhood == \"Bompensiere\"].shape)\n",
        "\n",
        "# ver as entradas de Bompensiere\n",
        "df_clean[df_clean.neighbourhood == \"Bompensiere\"]"
      ],
      "metadata": {
        "colab": {
          "base_uri": "https://localhost:8080/",
          "height": 266
        },
        "id": "hyh9Em0oi1FD",
        "outputId": "ec15da93-f6d6-48d6-9567-b71180db7a1b"
      },
      "execution_count": 52,
      "outputs": [
        {
          "output_type": "stream",
          "name": "stdout",
          "text": [
            "(1, 17)\n"
          ]
        },
        {
          "output_type": "execute_result",
          "data": {
            "text/plain": [
              "                       id                                               name  \\\n",
              "45625  562265338721025664  5 bedrooms villa with private pool, furnished ...   \n",
              "\n",
              "         host_id             host_name neighbourhood  latitude  longitude  \\\n",
              "45625  432420787  Loic, Estelle And Co   Bompensiere  37.47884  13.777164   \n",
              "\n",
              "             room_type  price  minimum_nights  number_of_reviews last_review  \\\n",
              "45625  Entire home/apt    488               1                  0         NaN   \n",
              "\n",
              "       reviews_per_month  calculated_host_listings_count  availability_365  \\\n",
              "45625                NaN                               1               364   \n",
              "\n",
              "       number_of_reviews_ltm license  \n",
              "45625                      0     NaN  "
            ],
            "text/html": [
              "\n",
              "  <div id=\"df-1673c9da-e5cc-4458-a915-d0f825bb95c2\">\n",
              "    <div class=\"colab-df-container\">\n",
              "      <div>\n",
              "<style scoped>\n",
              "    .dataframe tbody tr th:only-of-type {\n",
              "        vertical-align: middle;\n",
              "    }\n",
              "\n",
              "    .dataframe tbody tr th {\n",
              "        vertical-align: top;\n",
              "    }\n",
              "\n",
              "    .dataframe thead th {\n",
              "        text-align: right;\n",
              "    }\n",
              "</style>\n",
              "<table border=\"1\" class=\"dataframe\">\n",
              "  <thead>\n",
              "    <tr style=\"text-align: right;\">\n",
              "      <th></th>\n",
              "      <th>id</th>\n",
              "      <th>name</th>\n",
              "      <th>host_id</th>\n",
              "      <th>host_name</th>\n",
              "      <th>neighbourhood</th>\n",
              "      <th>latitude</th>\n",
              "      <th>longitude</th>\n",
              "      <th>room_type</th>\n",
              "      <th>price</th>\n",
              "      <th>minimum_nights</th>\n",
              "      <th>number_of_reviews</th>\n",
              "      <th>last_review</th>\n",
              "      <th>reviews_per_month</th>\n",
              "      <th>calculated_host_listings_count</th>\n",
              "      <th>availability_365</th>\n",
              "      <th>number_of_reviews_ltm</th>\n",
              "      <th>license</th>\n",
              "    </tr>\n",
              "  </thead>\n",
              "  <tbody>\n",
              "    <tr>\n",
              "      <th>45625</th>\n",
              "      <td>562265338721025664</td>\n",
              "      <td>5 bedrooms villa with private pool, furnished ...</td>\n",
              "      <td>432420787</td>\n",
              "      <td>Loic, Estelle And Co</td>\n",
              "      <td>Bompensiere</td>\n",
              "      <td>37.47884</td>\n",
              "      <td>13.777164</td>\n",
              "      <td>Entire home/apt</td>\n",
              "      <td>488</td>\n",
              "      <td>1</td>\n",
              "      <td>0</td>\n",
              "      <td>NaN</td>\n",
              "      <td>NaN</td>\n",
              "      <td>1</td>\n",
              "      <td>364</td>\n",
              "      <td>0</td>\n",
              "      <td>NaN</td>\n",
              "    </tr>\n",
              "  </tbody>\n",
              "</table>\n",
              "</div>\n",
              "      <button class=\"colab-df-convert\" onclick=\"convertToInteractive('df-1673c9da-e5cc-4458-a915-d0f825bb95c2')\"\n",
              "              title=\"Convert this dataframe to an interactive table.\"\n",
              "              style=\"display:none;\">\n",
              "        \n",
              "  <svg xmlns=\"http://www.w3.org/2000/svg\" height=\"24px\"viewBox=\"0 0 24 24\"\n",
              "       width=\"24px\">\n",
              "    <path d=\"M0 0h24v24H0V0z\" fill=\"none\"/>\n",
              "    <path d=\"M18.56 5.44l.94 2.06.94-2.06 2.06-.94-2.06-.94-.94-2.06-.94 2.06-2.06.94zm-11 1L8.5 8.5l.94-2.06 2.06-.94-2.06-.94L8.5 2.5l-.94 2.06-2.06.94zm10 10l.94 2.06.94-2.06 2.06-.94-2.06-.94-.94-2.06-.94 2.06-2.06.94z\"/><path d=\"M17.41 7.96l-1.37-1.37c-.4-.4-.92-.59-1.43-.59-.52 0-1.04.2-1.43.59L10.3 9.45l-7.72 7.72c-.78.78-.78 2.05 0 2.83L4 21.41c.39.39.9.59 1.41.59.51 0 1.02-.2 1.41-.59l7.78-7.78 2.81-2.81c.8-.78.8-2.07 0-2.86zM5.41 20L4 18.59l7.72-7.72 1.47 1.35L5.41 20z\"/>\n",
              "  </svg>\n",
              "      </button>\n",
              "      \n",
              "  <style>\n",
              "    .colab-df-container {\n",
              "      display:flex;\n",
              "      flex-wrap:wrap;\n",
              "      gap: 12px;\n",
              "    }\n",
              "\n",
              "    .colab-df-convert {\n",
              "      background-color: #E8F0FE;\n",
              "      border: none;\n",
              "      border-radius: 50%;\n",
              "      cursor: pointer;\n",
              "      display: none;\n",
              "      fill: #1967D2;\n",
              "      height: 32px;\n",
              "      padding: 0 0 0 0;\n",
              "      width: 32px;\n",
              "    }\n",
              "\n",
              "    .colab-df-convert:hover {\n",
              "      background-color: #E2EBFA;\n",
              "      box-shadow: 0px 1px 2px rgba(60, 64, 67, 0.3), 0px 1px 3px 1px rgba(60, 64, 67, 0.15);\n",
              "      fill: #174EA6;\n",
              "    }\n",
              "\n",
              "    [theme=dark] .colab-df-convert {\n",
              "      background-color: #3B4455;\n",
              "      fill: #D2E3FC;\n",
              "    }\n",
              "\n",
              "    [theme=dark] .colab-df-convert:hover {\n",
              "      background-color: #434B5C;\n",
              "      box-shadow: 0px 1px 3px 1px rgba(0, 0, 0, 0.15);\n",
              "      filter: drop-shadow(0px 1px 2px rgba(0, 0, 0, 0.3));\n",
              "      fill: #FFFFFF;\n",
              "    }\n",
              "  </style>\n",
              "\n",
              "      <script>\n",
              "        const buttonEl =\n",
              "          document.querySelector('#df-1673c9da-e5cc-4458-a915-d0f825bb95c2 button.colab-df-convert');\n",
              "        buttonEl.style.display =\n",
              "          google.colab.kernel.accessAllowed ? 'block' : 'none';\n",
              "\n",
              "        async function convertToInteractive(key) {\n",
              "          const element = document.querySelector('#df-1673c9da-e5cc-4458-a915-d0f825bb95c2');\n",
              "          const dataTable =\n",
              "            await google.colab.kernel.invokeFunction('convertToInteractive',\n",
              "                                                     [key], {});\n",
              "          if (!dataTable) return;\n",
              "\n",
              "          const docLinkHtml = 'Like what you see? Visit the ' +\n",
              "            '<a target=\"_blank\" href=https://colab.research.google.com/notebooks/data_table.ipynb>data table notebook</a>'\n",
              "            + ' to learn more about interactive tables.';\n",
              "          element.innerHTML = '';\n",
              "          dataTable['output_type'] = 'display_data';\n",
              "          await google.colab.output.renderOutput(dataTable, element);\n",
              "          const docLink = document.createElement('div');\n",
              "          docLink.innerHTML = docLinkHtml;\n",
              "          element.appendChild(docLink);\n",
              "        }\n",
              "      </script>\n",
              "    </div>\n",
              "  </div>\n",
              "  "
            ]
          },
          "metadata": {},
          "execution_count": 52
        }
      ]
    },
    {
      "cell_type": "markdown",
      "source": [
        "*A pesquisa apresenta apenas 1 imóvel em Bompensiere. Em uma breve pesquisa pela internet, Bompensiere é uma comuna italiana da região da Sicília, província de Caltanissetta, com cerca de 676 habitantes. Sujeito à atualização.*"
      ],
      "metadata": {
        "id": "yKaoUZBIl3Hb"
      }
    },
    {
      "cell_type": "code",
      "source": [
        "# ver quantidade de imóveis em Castel di Lucio\n",
        "print(df_clean[df_clean.neighbourhood == \"Castel di Lucio\"].shape)\n",
        "\n",
        "# ver as entradas de Castel di Lucio\n",
        "df_clean[df_clean.neighbourhood == \"Castel di Lucio\"]"
      ],
      "metadata": {
        "colab": {
          "base_uri": "https://localhost:8080/",
          "height": 482
        },
        "id": "jY1qtEkoi8OU",
        "outputId": "10b74a4a-2096-4db3-9b23-6af4f5ab8b2d"
      },
      "execution_count": 53,
      "outputs": [
        {
          "output_type": "stream",
          "name": "stdout",
          "text": [
            "(4, 17)\n"
          ]
        },
        {
          "output_type": "execute_result",
          "data": {
            "text/plain": [
              "                       id                                          name  \\\n",
              "5855              6550567                 vista stupenda sul terrazzino   \n",
              "38298            49376380  Domus Sicily - Villa degli Ulivi dei Nebrodi   \n",
              "50830  648099013738362193         La Dimora Di Ciccio With Private Pool   \n",
              "51126  649930674147229998           Lugar Encantador en Castel di lucio   \n",
              "\n",
              "         host_id              host_name    neighbourhood   latitude  \\\n",
              "5855    33923017  Maria Rosanna Letizia  Castel di Lucio  37.888100   \n",
              "38298   24112697           Domus Sicily  Castel di Lucio  37.885630   \n",
              "50830  349117830              Cristiana  Castel di Lucio  37.875556   \n",
              "51126  215581790                  Giovi  Castel di Lucio  37.888940   \n",
              "\n",
              "       longitude        room_type  price  minimum_nights  number_of_reviews  \\\n",
              "5855   14.312220  Entire home/apt     90               2                  1   \n",
              "38298  14.310910  Entire home/apt    700               3                  0   \n",
              "50830  14.301389  Entire home/apt    338               3                  0   \n",
              "51126  14.314950  Entire home/apt     32               1                  0   \n",
              "\n",
              "      last_review  reviews_per_month  calculated_host_listings_count  \\\n",
              "5855   2018-08-23               0.02                               1   \n",
              "38298         NaN                NaN                              51   \n",
              "50830         NaN                NaN                              26   \n",
              "51126         NaN                NaN                               1   \n",
              "\n",
              "       availability_365  number_of_reviews_ltm license  \n",
              "5855                342                      0     NaN  \n",
              "38298               208                      0     NaN  \n",
              "50830               333                      0     NaN  \n",
              "51126               365                      0     NaN  "
            ],
            "text/html": [
              "\n",
              "  <div id=\"df-f9d64c55-653d-4cb9-9f28-efb4299157c2\">\n",
              "    <div class=\"colab-df-container\">\n",
              "      <div>\n",
              "<style scoped>\n",
              "    .dataframe tbody tr th:only-of-type {\n",
              "        vertical-align: middle;\n",
              "    }\n",
              "\n",
              "    .dataframe tbody tr th {\n",
              "        vertical-align: top;\n",
              "    }\n",
              "\n",
              "    .dataframe thead th {\n",
              "        text-align: right;\n",
              "    }\n",
              "</style>\n",
              "<table border=\"1\" class=\"dataframe\">\n",
              "  <thead>\n",
              "    <tr style=\"text-align: right;\">\n",
              "      <th></th>\n",
              "      <th>id</th>\n",
              "      <th>name</th>\n",
              "      <th>host_id</th>\n",
              "      <th>host_name</th>\n",
              "      <th>neighbourhood</th>\n",
              "      <th>latitude</th>\n",
              "      <th>longitude</th>\n",
              "      <th>room_type</th>\n",
              "      <th>price</th>\n",
              "      <th>minimum_nights</th>\n",
              "      <th>number_of_reviews</th>\n",
              "      <th>last_review</th>\n",
              "      <th>reviews_per_month</th>\n",
              "      <th>calculated_host_listings_count</th>\n",
              "      <th>availability_365</th>\n",
              "      <th>number_of_reviews_ltm</th>\n",
              "      <th>license</th>\n",
              "    </tr>\n",
              "  </thead>\n",
              "  <tbody>\n",
              "    <tr>\n",
              "      <th>5855</th>\n",
              "      <td>6550567</td>\n",
              "      <td>vista stupenda sul terrazzino</td>\n",
              "      <td>33923017</td>\n",
              "      <td>Maria Rosanna Letizia</td>\n",
              "      <td>Castel di Lucio</td>\n",
              "      <td>37.888100</td>\n",
              "      <td>14.312220</td>\n",
              "      <td>Entire home/apt</td>\n",
              "      <td>90</td>\n",
              "      <td>2</td>\n",
              "      <td>1</td>\n",
              "      <td>2018-08-23</td>\n",
              "      <td>0.02</td>\n",
              "      <td>1</td>\n",
              "      <td>342</td>\n",
              "      <td>0</td>\n",
              "      <td>NaN</td>\n",
              "    </tr>\n",
              "    <tr>\n",
              "      <th>38298</th>\n",
              "      <td>49376380</td>\n",
              "      <td>Domus Sicily - Villa degli Ulivi dei Nebrodi</td>\n",
              "      <td>24112697</td>\n",
              "      <td>Domus Sicily</td>\n",
              "      <td>Castel di Lucio</td>\n",
              "      <td>37.885630</td>\n",
              "      <td>14.310910</td>\n",
              "      <td>Entire home/apt</td>\n",
              "      <td>700</td>\n",
              "      <td>3</td>\n",
              "      <td>0</td>\n",
              "      <td>NaN</td>\n",
              "      <td>NaN</td>\n",
              "      <td>51</td>\n",
              "      <td>208</td>\n",
              "      <td>0</td>\n",
              "      <td>NaN</td>\n",
              "    </tr>\n",
              "    <tr>\n",
              "      <th>50830</th>\n",
              "      <td>648099013738362193</td>\n",
              "      <td>La Dimora Di Ciccio With Private Pool</td>\n",
              "      <td>349117830</td>\n",
              "      <td>Cristiana</td>\n",
              "      <td>Castel di Lucio</td>\n",
              "      <td>37.875556</td>\n",
              "      <td>14.301389</td>\n",
              "      <td>Entire home/apt</td>\n",
              "      <td>338</td>\n",
              "      <td>3</td>\n",
              "      <td>0</td>\n",
              "      <td>NaN</td>\n",
              "      <td>NaN</td>\n",
              "      <td>26</td>\n",
              "      <td>333</td>\n",
              "      <td>0</td>\n",
              "      <td>NaN</td>\n",
              "    </tr>\n",
              "    <tr>\n",
              "      <th>51126</th>\n",
              "      <td>649930674147229998</td>\n",
              "      <td>Lugar Encantador en Castel di lucio</td>\n",
              "      <td>215581790</td>\n",
              "      <td>Giovi</td>\n",
              "      <td>Castel di Lucio</td>\n",
              "      <td>37.888940</td>\n",
              "      <td>14.314950</td>\n",
              "      <td>Entire home/apt</td>\n",
              "      <td>32</td>\n",
              "      <td>1</td>\n",
              "      <td>0</td>\n",
              "      <td>NaN</td>\n",
              "      <td>NaN</td>\n",
              "      <td>1</td>\n",
              "      <td>365</td>\n",
              "      <td>0</td>\n",
              "      <td>NaN</td>\n",
              "    </tr>\n",
              "  </tbody>\n",
              "</table>\n",
              "</div>\n",
              "      <button class=\"colab-df-convert\" onclick=\"convertToInteractive('df-f9d64c55-653d-4cb9-9f28-efb4299157c2')\"\n",
              "              title=\"Convert this dataframe to an interactive table.\"\n",
              "              style=\"display:none;\">\n",
              "        \n",
              "  <svg xmlns=\"http://www.w3.org/2000/svg\" height=\"24px\"viewBox=\"0 0 24 24\"\n",
              "       width=\"24px\">\n",
              "    <path d=\"M0 0h24v24H0V0z\" fill=\"none\"/>\n",
              "    <path d=\"M18.56 5.44l.94 2.06.94-2.06 2.06-.94-2.06-.94-.94-2.06-.94 2.06-2.06.94zm-11 1L8.5 8.5l.94-2.06 2.06-.94-2.06-.94L8.5 2.5l-.94 2.06-2.06.94zm10 10l.94 2.06.94-2.06 2.06-.94-2.06-.94-.94-2.06-.94 2.06-2.06.94z\"/><path d=\"M17.41 7.96l-1.37-1.37c-.4-.4-.92-.59-1.43-.59-.52 0-1.04.2-1.43.59L10.3 9.45l-7.72 7.72c-.78.78-.78 2.05 0 2.83L4 21.41c.39.39.9.59 1.41.59.51 0 1.02-.2 1.41-.59l7.78-7.78 2.81-2.81c.8-.78.8-2.07 0-2.86zM5.41 20L4 18.59l7.72-7.72 1.47 1.35L5.41 20z\"/>\n",
              "  </svg>\n",
              "      </button>\n",
              "      \n",
              "  <style>\n",
              "    .colab-df-container {\n",
              "      display:flex;\n",
              "      flex-wrap:wrap;\n",
              "      gap: 12px;\n",
              "    }\n",
              "\n",
              "    .colab-df-convert {\n",
              "      background-color: #E8F0FE;\n",
              "      border: none;\n",
              "      border-radius: 50%;\n",
              "      cursor: pointer;\n",
              "      display: none;\n",
              "      fill: #1967D2;\n",
              "      height: 32px;\n",
              "      padding: 0 0 0 0;\n",
              "      width: 32px;\n",
              "    }\n",
              "\n",
              "    .colab-df-convert:hover {\n",
              "      background-color: #E2EBFA;\n",
              "      box-shadow: 0px 1px 2px rgba(60, 64, 67, 0.3), 0px 1px 3px 1px rgba(60, 64, 67, 0.15);\n",
              "      fill: #174EA6;\n",
              "    }\n",
              "\n",
              "    [theme=dark] .colab-df-convert {\n",
              "      background-color: #3B4455;\n",
              "      fill: #D2E3FC;\n",
              "    }\n",
              "\n",
              "    [theme=dark] .colab-df-convert:hover {\n",
              "      background-color: #434B5C;\n",
              "      box-shadow: 0px 1px 3px 1px rgba(0, 0, 0, 0.15);\n",
              "      filter: drop-shadow(0px 1px 2px rgba(0, 0, 0, 0.3));\n",
              "      fill: #FFFFFF;\n",
              "    }\n",
              "  </style>\n",
              "\n",
              "      <script>\n",
              "        const buttonEl =\n",
              "          document.querySelector('#df-f9d64c55-653d-4cb9-9f28-efb4299157c2 button.colab-df-convert');\n",
              "        buttonEl.style.display =\n",
              "          google.colab.kernel.accessAllowed ? 'block' : 'none';\n",
              "\n",
              "        async function convertToInteractive(key) {\n",
              "          const element = document.querySelector('#df-f9d64c55-653d-4cb9-9f28-efb4299157c2');\n",
              "          const dataTable =\n",
              "            await google.colab.kernel.invokeFunction('convertToInteractive',\n",
              "                                                     [key], {});\n",
              "          if (!dataTable) return;\n",
              "\n",
              "          const docLinkHtml = 'Like what you see? Visit the ' +\n",
              "            '<a target=\"_blank\" href=https://colab.research.google.com/notebooks/data_table.ipynb>data table notebook</a>'\n",
              "            + ' to learn more about interactive tables.';\n",
              "          element.innerHTML = '';\n",
              "          dataTable['output_type'] = 'display_data';\n",
              "          await google.colab.output.renderOutput(dataTable, element);\n",
              "          const docLink = document.createElement('div');\n",
              "          docLink.innerHTML = docLinkHtml;\n",
              "          element.appendChild(docLink);\n",
              "        }\n",
              "      </script>\n",
              "    </div>\n",
              "  </div>\n",
              "  "
            ]
          },
          "metadata": {},
          "execution_count": 53
        }
      ]
    },
    {
      "cell_type": "markdown",
      "source": [
        "*A pesquisa apresenta apenas 4 imóveis em Catel di Lucio. Em uma breve pesquisa pela internet, Castel di Lucio é uma comuna italiana da região da Sicília, província de Messina, com cerca de 1.561 habitantes. Sujeito à atualizações.*"
      ],
      "metadata": {
        "id": "ffFZGecxnQYQ"
      }
    },
    {
      "cell_type": "markdown",
      "metadata": {
        "id": "4nMyAfrBS3s1"
      },
      "source": [
        "Os dados fornecidos pela Airbnb fornecem as Latitudes e Longitudes para os imóveis. Portanto, é possível plotar cada ponto considerando `x=longitude` e `y=latitude`."
      ]
    },
    {
      "cell_type": "code",
      "metadata": {
        "id": "UxVJqJ_3W59I",
        "colab": {
          "base_uri": "https://localhost:8080/",
          "height": 469
        },
        "outputId": "48110e2d-9b14-4f84-e690-5adb8ef513a1"
      },
      "source": [
        "# plotar os imóveis pela latitude-longitude\n",
        "df_clean.plot(kind=\"scatter\", x='longitude', y='latitude', alpha=0.4, c=df_clean['price'], s=8,\n",
        "              cmap=plt.get_cmap('jet'), figsize=(15,8));"
      ],
      "execution_count": 58,
      "outputs": [
        {
          "output_type": "display_data",
          "data": {
            "text/plain": [
              "<Figure size 1080x576 with 2 Axes>"
            ],
            "image/png": "[encoded data removed]"
          },
          "metadata": {
            "needs_background": "light"
          }
        }
      ]
    },
    {
      "cell_type": "markdown",
      "metadata": {
        "id": "GkvAg623RjoR"
      },
      "source": [
        "## **Conclusões**\n",
        "\n",
        "**Foi realizada uma análise dos dados resumidos disponibilizados pelo Airbnb na região da Sicília (Itália).** Foi levado em consideração se os valores nulos eram significativos na análise e percebendo a existência de outliers através da distribuição do histograma, resumo estatístico e do boxplots para as variáveis selecionadas, foi necessário o ajuste.\n",
        "\n",
        "Os dados apresentam que os tipos de imóveis mais listados no Airbnb são de **Apt/Casa inteiro representando 81,7%, enquanto quartos privativos representam 17%.** Ou seja, os proprietários de imóveis na região da Sicília optam por listar imóveis inteiros ou seus quartos privativos, sendo os quartos privativos listados no Airbnb superior aos quartos de hotéis. \n",
        "\n",
        "As localidades mais caras da Sicília apresentam algumas considerações bastante relevante na análise. De acordo com os dados, os bairros mais caros da Sicília são: **San Teodoro, Bompensiere e Castel di Lucio.**\n",
        "\n",
        "*   No caso de San Teodoro, é uma região litorânea e ponto turístico por conta de suas praias, restaurantes. Porém conta com apenas 2 imóveis para alugar com uma população de 2573 até o momento dessa pesquisa (2022). \n",
        "\n",
        "*   A região de Bompensiere apresenta apenas 1 imóvel listado, sendo uma comuna italiana que possui 676 habitantes até o momento dessa pesquisa (2022). \n",
        "\n",
        "*   E a região de Castel di Lucio apresenta apenas 4 imóveis listados, sendo também uma comuna italiana, com cerca de 1561 habitantes até o momento dessa pesquisa (2022)\n",
        "\n",
        "É interessante notar os poucos imóveis listados e um alto valor para se hospedar, ou seja, o preço acaba sendo mais maior devido uma baixa quantidade de imóveis disponível no Airbnb para essas regiões. \n",
        "\n",
        "Para finalizar, o arquivo analisado é uma versão resumida, ideal apenas para uma abordagem inicial. É interessante que seja usado, em uma próxima análise exploratória, o conjunto de dados completos."
      ]
    }
  ]
}